{
 "cells": [
  {
   "cell_type": "markdown",
   "id": "fad1607b",
   "metadata": {},
   "source": [
    "# Challenge Questions - Core Python"
   ]
  },
  {
   "cell_type": "markdown",
   "id": "fabc79f4",
   "metadata": {},
   "source": [
    "## Q1: In the cell below variable \"name\" generates a random name. The variable \"score\" generates a random score.\n",
    "### • If the score is greater than or equal to 70 I want you to print:\n",
    "#### f\" {name} perfomed really well in the test and got a score of {score}\"\n",
    "### • If the score is equal to or above 50 but less than 70 print:\n",
    "#### f\" {name} passed the test and got a score of {score}\"\n",
    "### • If the score is less than 50 print:\n",
    "#### f\" {name} failed the test with a score of {score}\""
   ]
  },
  {
   "cell_type": "code",
   "execution_count": 9,
   "id": "0187b52a",
   "metadata": {},
   "outputs": [],
   "source": [
    "# run this cell first - DO NOT OVERWRITE\n",
    "import random\n",
    "name = random.choice(['Meera','Ben','John','Anand'])\n",
    "score = random.randint(0,100)"
   ]
  },
  {
   "cell_type": "code",
   "execution_count": 7,
   "id": "d5e40856",
   "metadata": {},
   "outputs": [],
   "source": [
    "# Write your solution here\n"
   ]
  },
  {
   "cell_type": "code",
   "execution_count": 15,
   "id": "6b7ffc8f",
   "metadata": {},
   "outputs": [
    {
     "name": "stdout",
     "output_type": "stream",
     "text": [
      " Anand perfomed really well in the test and got a score of 72\n"
     ]
    }
   ],
   "source": [
    "if score >=70:\n",
    "            print(f\" {name} perfomed really well in the test and got a score of {score}\")\n",
    "elif score <70:\n",
    "    if score <70:\n",
    "        print(f\" {name} passed the test and got a score of {score}\")\n",
    "    elif score >=50:\n",
    "        print(f\" {name} passed the test and got a score of {score}\")\n",
    "if score <50:\n",
    "     print(f\"{name} failed the test with a score of {score}\")"
   ]
  },
  {
   "cell_type": "code",
   "execution_count": 12,
   "id": "15b12bc5",
   "metadata": {},
   "outputs": [
    {
     "name": "stdout",
     "output_type": "stream",
     "text": [
      "Anand performed really well and got a score of 72\n"
     ]
    }
   ],
   "source": [
    "if score >= 70:\n",
    "    print(f\"{name} performed really well and got a score of {score}\")\n",
    "elif score >= 50:\n",
    "    print(f\"{name} pass the test and got a score of {score}\")\n",
    "else:\n",
    "    print(f\"{name} failed the test with a score of {score}\")"
   ]
  },
  {
   "cell_type": "code",
   "execution_count": 13,
   "id": "2e1bb9fa",
   "metadata": {},
   "outputs": [
    {
     "name": "stdout",
     "output_type": "stream",
     "text": [
      "Anand performed really well and got a score of 72\n"
     ]
    }
   ],
   "source": [
    "if score > 70:\n",
    "    print(f\"{name} performed really well and got a score of {score}\")\n",
    "if score >= 50 and score <70:\n",
    "    print(f\"{name} pass the test and got a score of {score}\")\n",
    "if score < 50:\n",
    "    print(f\"{name} failed the test with a score of {score}\")"
   ]
  },
  {
   "cell_type": "code",
   "execution_count": null,
   "id": "05990b09",
   "metadata": {},
   "outputs": [],
   "source": []
  },
  {
   "cell_type": "markdown",
   "id": "1552d74e",
   "metadata": {},
   "source": [
    "## Q2: Use indexing to return 'Ford' from the variable x below"
   ]
  },
  {
   "cell_type": "code",
   "execution_count": 25,
   "id": "d087ea67",
   "metadata": {},
   "outputs": [],
   "source": [
    "# Run this cell first\n",
    "x = [1,2,{'car':'Ford'},'Hello']"
   ]
  },
  {
   "cell_type": "code",
   "execution_count": null,
   "id": "5a6cea6e",
   "metadata": {},
   "outputs": [],
   "source": [
    "# Write your solution here"
   ]
  },
  {
   "cell_type": "code",
   "execution_count": 33,
   "id": "ff823ab4",
   "metadata": {},
   "outputs": [
    {
     "data": {
      "text/plain": [
       "'Ford'"
      ]
     },
     "execution_count": 33,
     "metadata": {},
     "output_type": "execute_result"
    }
   ],
   "source": [
    "x[2]['car']"
   ]
  },
  {
   "cell_type": "markdown",
   "id": "732bdf17",
   "metadata": {},
   "source": [
    "my own practise example"
   ]
  },
  {
   "cell_type": "code",
   "execution_count": 34,
   "id": "09717d89",
   "metadata": {},
   "outputs": [],
   "source": [
    "x = [1,2,('car','Ford'),'Hello']"
   ]
  },
  {
   "cell_type": "code",
   "execution_count": 35,
   "id": "6cf70d88",
   "metadata": {},
   "outputs": [
    {
     "data": {
      "text/plain": [
       "'Ford'"
      ]
     },
     "execution_count": 35,
     "metadata": {},
     "output_type": "execute_result"
    }
   ],
   "source": [
    "x[2][1]"
   ]
  },
  {
   "cell_type": "code",
   "execution_count": null,
   "id": "dd7dc9a5",
   "metadata": {},
   "outputs": [],
   "source": []
  },
  {
   "cell_type": "markdown",
   "id": "35a5b3b9",
   "metadata": {},
   "source": [
    "## Q3: Use slicing to return [2,3,4] from the variable x below"
   ]
  },
  {
   "cell_type": "code",
   "execution_count": 36,
   "id": "1297038b",
   "metadata": {},
   "outputs": [],
   "source": [
    "# Run this cell first\n",
    "x = [1,2,3,(1,2,[1,2,3,4,5],3,2,1,[1,2])]"
   ]
  },
  {
   "cell_type": "code",
   "execution_count": null,
   "id": "b86261c2",
   "metadata": {},
   "outputs": [],
   "source": [
    "# Write your solution here\n"
   ]
  },
  {
   "cell_type": "code",
   "execution_count": 41,
   "id": "037d6dc5",
   "metadata": {},
   "outputs": [
    {
     "data": {
      "text/plain": [
       "(1, 2, [1, 2, 3, 4, 5], 3, 2, 1, [1, 2])"
      ]
     },
     "execution_count": 41,
     "metadata": {},
     "output_type": "execute_result"
    }
   ],
   "source": [
    "x[3]"
   ]
  },
  {
   "cell_type": "code",
   "execution_count": 43,
   "id": "b39b36e9",
   "metadata": {},
   "outputs": [
    {
     "data": {
      "text/plain": [
       "[2, 3, 4]"
      ]
     },
     "execution_count": 43,
     "metadata": {},
     "output_type": "execute_result"
    }
   ],
   "source": [
    "x[3][2][1:4]"
   ]
  },
  {
   "cell_type": "markdown",
   "id": "790fa78c",
   "metadata": {},
   "source": [
    "## Q4: The last 3 characters in each element of the object \"codes\" below are 2 digit alpha codes representing a country. Extract these codes into a new list called alpha2 "
   ]
  },
  {
   "cell_type": "code",
   "execution_count": 44,
   "id": "a7c3f034",
   "metadata": {},
   "outputs": [],
   "source": [
    "# Run this cell first\n",
    "codes = ['826GBR','840USA','276DEU','818EGY','250FRA']"
   ]
  },
  {
   "cell_type": "code",
   "execution_count": null,
   "id": "2ec2d387",
   "metadata": {},
   "outputs": [],
   "source": [
    "# Write your solution here\n"
   ]
  },
  {
   "cell_type": "code",
   "execution_count": 49,
   "id": "0c1cc631",
   "metadata": {},
   "outputs": [
    {
     "name": "stdout",
     "output_type": "stream",
     "text": [
      "['GBR', 'GBR', 'GBR', 'GBR', 'GBR']\n"
     ]
    }
   ],
   "source": [
    "alpha2=[]\n",
    "for elements in codes:\n",
    "    alpha2.append(element[3:6])\n",
    "print(alpha2)"
   ]
  },
  {
   "cell_type": "code",
   "execution_count": 53,
   "id": "64701a34",
   "metadata": {},
   "outputs": [
    {
     "name": "stdout",
     "output_type": "stream",
     "text": [
      "['GBR', 'GBR', 'GBR', 'GBR', 'GBR']\n"
     ]
    }
   ],
   "source": [
    "alpha2 = [element[3:6] for elment in codes]\n",
    "print(alpha2)"
   ]
  },
  {
   "cell_type": "code",
   "execution_count": 55,
   "id": "7c9380da",
   "metadata": {},
   "outputs": [
    {
     "name": "stdout",
     "output_type": "stream",
     "text": [
      "['GBR', 'USA', 'DEU', 'EGY', 'FRA']\n"
     ]
    }
   ],
   "source": [
    "alpha2 =list(map(lambda x:x[3:6],codes))\n",
    "print(alpha2)"
   ]
  },
  {
   "cell_type": "code",
   "execution_count": null,
   "id": "75e77fcb",
   "metadata": {},
   "outputs": [],
   "source": []
  },
  {
   "cell_type": "markdown",
   "id": "14f98f6d",
   "metadata": {},
   "source": [
    "## Q5: Return the list names with all elements in uppercase"
   ]
  },
  {
   "cell_type": "code",
   "execution_count": 56,
   "id": "a7d1ba19",
   "metadata": {},
   "outputs": [],
   "source": [
    "# Run this cell first\n",
    "names=['Sophie', 'Mark','Susan','Jerome','Roger','Sunita','Boris','Steve']"
   ]
  },
  {
   "cell_type": "code",
   "execution_count": null,
   "id": "4a9cd1b4",
   "metadata": {},
   "outputs": [],
   "source": [
    "# Write your solution here\n"
   ]
  },
  {
   "cell_type": "code",
   "execution_count": null,
   "id": "baffb225",
   "metadata": {},
   "outputs": [],
   "source": []
  },
  {
   "cell_type": "code",
   "execution_count": 60,
   "id": "a2366a02",
   "metadata": {},
   "outputs": [
    {
     "data": {
      "text/plain": [
       "['SOPHIE', 'MARK', 'SUSAN', 'JEROME', 'ROGER', 'SUNITA', 'BORIS', 'STEVE']"
      ]
     },
     "execution_count": 60,
     "metadata": {},
     "output_type": "execute_result"
    }
   ],
   "source": [
    "list(map(lambda x:x.upper(),names))"
   ]
  },
  {
   "cell_type": "code",
   "execution_count": null,
   "id": "409fa964",
   "metadata": {},
   "outputs": [],
   "source": []
  },
  {
   "cell_type": "markdown",
   "id": "5b14b4e3",
   "metadata": {},
   "source": [
    "## Q6:  Find a way to filter the elements of list_1 to only include integers. Assign this new list to the variable whole_numbers"
   ]
  },
  {
   "cell_type": "code",
   "execution_count": 1,
   "id": "1b8c3528",
   "metadata": {},
   "outputs": [],
   "source": [
    "# Run this cell first\n",
    "list_1 = [1,2,3,4,'Helena',9,2.8724,4,2,'Rick',{'name':'John'}]"
   ]
  },
  {
   "cell_type": "code",
   "execution_count": null,
   "id": "b9e26c9e",
   "metadata": {},
   "outputs": [],
   "source": [
    "# Write your solution here\n"
   ]
  },
  {
   "cell_type": "code",
   "execution_count": 4,
   "id": "c9b27ad2",
   "metadata": {},
   "outputs": [
    {
     "data": {
      "text/plain": [
       "[1, 2, 3, 4, 9, 4, 2]"
      ]
     },
     "execution_count": 4,
     "metadata": {},
     "output_type": "execute_result"
    }
   ],
   "source": [
    "list(filter(lambda x:type(x)==int, list_1))"
   ]
  },
  {
   "cell_type": "code",
   "execution_count": 5,
   "id": "bab813f1",
   "metadata": {},
   "outputs": [],
   "source": [
    "whole_numbers = list(filter(lambda x:type(x)==int, list_1))"
   ]
  },
  {
   "cell_type": "code",
   "execution_count": 6,
   "id": "220f6dde",
   "metadata": {},
   "outputs": [
    {
     "data": {
      "text/plain": [
       "[1, 2, 3, 4, 9, 4, 2]"
      ]
     },
     "execution_count": 6,
     "metadata": {},
     "output_type": "execute_result"
    }
   ],
   "source": [
    "whole_numbers"
   ]
  },
  {
   "cell_type": "code",
   "execution_count": null,
   "id": "cd4797fa",
   "metadata": {},
   "outputs": [],
   "source": []
  },
  {
   "cell_type": "markdown",
   "id": "20c942dc",
   "metadata": {},
   "source": [
    "## Q7: Create a function called str_tup_list, it should take one argument. \n",
    "#### • If you pass in a list then it sorts and returns the elements in the list in ascending order\n",
    "#### • If you pass in a tuple then it returns the length of the tuple\n",
    "#### • If you pass in a string then it returns the string in uppercase\n",
    "#### • For any other data types it should print 'This is not a string, tuple or list'"
   ]
  },
  {
   "cell_type": "code",
   "execution_count": 58,
   "id": "e76613e1",
   "metadata": {},
   "outputs": [],
   "source": [
    "# Create your function here\n",
    "def tuple_1(x):\n",
    "    if type(x)== list:\n",
    "        return sorted(x)\n",
    "    if type(x)== tuple:\n",
    "        return len(x)\n",
    "    if type(x)== str:\n",
    "        return x.upper()\n",
    "    else:\n",
    "        print('This is not a string, tuple or list')"
   ]
  },
  {
   "cell_type": "code",
   "execution_count": 56,
   "id": "79c7cc68",
   "metadata": {},
   "outputs": [
    {
     "data": {
      "text/plain": [
       "'HELP'"
      ]
     },
     "execution_count": 56,
     "metadata": {},
     "output_type": "execute_result"
    }
   ],
   "source": [
    "# Test your function here\n",
    "\n",
    "tuple_1('Help')"
   ]
  },
  {
   "cell_type": "code",
   "execution_count": 60,
   "id": "40dde9ab",
   "metadata": {},
   "outputs": [
    {
     "data": {
      "text/plain": [
       "[1, 2, 3, 50]"
      ]
     },
     "execution_count": 60,
     "metadata": {},
     "output_type": "execute_result"
    }
   ],
   "source": [
    "tuple_1([1,3,2,50])"
   ]
  },
  {
   "cell_type": "code",
   "execution_count": 64,
   "id": "c5feced9",
   "metadata": {},
   "outputs": [
    {
     "data": {
      "text/plain": [
       "6"
      ]
     },
     "execution_count": 64,
     "metadata": {},
     "output_type": "execute_result"
    }
   ],
   "source": [
    "tuple_1((1,2,2,4,7,9))"
   ]
  },
  {
   "cell_type": "code",
   "execution_count": 65,
   "id": "4280d9a1",
   "metadata": {},
   "outputs": [
    {
     "name": "stdout",
     "output_type": "stream",
     "text": [
      "This is not a string, tuple or list\n"
     ]
    }
   ],
   "source": [
    "tuple_1({4,5,20,4})"
   ]
  },
  {
   "cell_type": "code",
   "execution_count": null,
   "id": "c1e96a48",
   "metadata": {},
   "outputs": [],
   "source": []
  },
  {
   "cell_type": "markdown",
   "id": "44410426",
   "metadata": {},
   "source": [
    "## Q8: I want you to implement a function that can take a string value as an argument and returns True if that string contains any numbers. Call this function num_check. You do not need to add control flow to check the argument.\n",
    "\n",
    "\n",
    "#### Note: Research the method isnumeric() for this solution: https://docs.python.org/3/library/stdtypes.html\n",
    "#### A big part of becoming a better developer is being able to look up and apply functions you haven't used before"
   ]
  },
  {
   "cell_type": "code",
   "execution_count": null,
   "id": "ab195601",
   "metadata": {},
   "outputs": [],
   "source": []
  },
  {
   "cell_type": "code",
   "execution_count": null,
   "id": "23af2d97",
   "metadata": {},
   "outputs": [],
   "source": []
  },
  {
   "cell_type": "code",
   "execution_count": 85,
   "id": "30b6054d",
   "metadata": {},
   "outputs": [],
   "source": [
    "# Create your function here\n",
    "def num_check(s):\n",
    "    for item in s:\n",
    "        if item.isnumeric() == True:\n",
    "            return True\n",
    " "
   ]
  },
  {
   "cell_type": "code",
   "execution_count": 86,
   "id": "11515cbc",
   "metadata": {},
   "outputs": [
    {
     "data": {
      "text/plain": [
       "True"
      ]
     },
     "execution_count": 86,
     "metadata": {},
     "output_type": "execute_result"
    }
   ],
   "source": [
    "# Test your function here\n",
    "num_check(\"abc123def\")"
   ]
  },
  {
   "cell_type": "code",
   "execution_count": null,
   "id": "b3dc9a66",
   "metadata": {},
   "outputs": [],
   "source": []
  },
  {
   "cell_type": "code",
   "execution_count": null,
   "id": "54ca11eb",
   "metadata": {},
   "outputs": [],
   "source": []
  },
  {
   "cell_type": "markdown",
   "id": "d83df6c6",
   "metadata": {},
   "source": [
    "## Q9: The below list contains information about a person, their age and favourite color. The information for each person is contained in a tuple.\n",
    "## Filter this list so that it only contains the information for people who's favourite color is blue"
   ]
  },
  {
   "cell_type": "code",
   "execution_count": 69,
   "id": "3a44de7e",
   "metadata": {},
   "outputs": [],
   "source": [
    "# Run this cell first\n",
    "person = [('Andrew',39,'Blue'),('Ross',48,'Red'),('Sarah',19,'Yellow'),('Meena',42,'Orange'),('Sophue',28,'Blue')]"
   ]
  },
  {
   "cell_type": "code",
   "execution_count": 79,
   "id": "1c9420f1",
   "metadata": {},
   "outputs": [],
   "source": [
    "# Write your solution here\n",
    "def blue_color(x):\n",
    "    if x[2] == 'Blue':\n",
    "        return list"
   ]
  },
  {
   "cell_type": "code",
   "execution_count": 80,
   "id": "c379d905",
   "metadata": {},
   "outputs": [
    {
     "data": {
      "text/plain": [
       "[('Andrew', 39, 'Blue'), ('Sophue', 28, 'Blue')]"
      ]
     },
     "execution_count": 80,
     "metadata": {},
     "output_type": "execute_result"
    }
   ],
   "source": [
    "list(filter(blue_color, person))"
   ]
  },
  {
   "cell_type": "markdown",
   "id": "3f22e32b",
   "metadata": {},
   "source": [
    "or"
   ]
  },
  {
   "cell_type": "code",
   "execution_count": 84,
   "id": "b5239b83",
   "metadata": {},
   "outputs": [
    {
     "data": {
      "text/plain": [
       "[('Andrew', 39, 'Blue'), ('Sophue', 28, 'Blue')]"
      ]
     },
     "execution_count": 84,
     "metadata": {},
     "output_type": "execute_result"
    }
   ],
   "source": [
    "list(filter(lambda x: x[2]=='Blue',person))"
   ]
  },
  {
   "cell_type": "code",
   "execution_count": null,
   "id": "704326a3",
   "metadata": {},
   "outputs": [],
   "source": []
  },
  {
   "cell_type": "markdown",
   "id": "a995ba7d",
   "metadata": {},
   "source": [
    "## Bonus Question : Add Control Flow to the below Function to ensure that the user inputs an integer before advancing to the next step"
   ]
  },
  {
   "cell_type": "code",
   "execution_count": 89,
   "id": "4f6ca47c",
   "metadata": {},
   "outputs": [],
   "source": [
    "# Modify this function, you can copy it in the cell below\n",
    "def create_ranged_list():\n",
    "    x = int(input('Please select a start parameter'))\n",
    "    y = int(input('Please select a stop parameter'))\n",
    "    z = int(input('Please select a step parameter'))\n",
    "    return list(range(x,y,z))"
   ]
  },
  {
   "cell_type": "code",
   "execution_count": 93,
   "id": "7d936e93",
   "metadata": {},
   "outputs": [],
   "source": [
    "# Create your function here\n",
    "def create_ranged_list():\n",
    "    x=''\n",
    "    y=''\n",
    "    z=''\n",
    "    \n",
    "    while type(x)!=int:\n",
    "        try:\n",
    "            x = int(input('Please select a start parameter'))\n",
    "        except:\n",
    "            print('Please enter an integer')\n",
    "\n",
    "    while type(y)!=int:\n",
    "        try:\n",
    "            y = int(input('Please select a stop parameter'))\n",
    "        except:\n",
    "            print('Please enter an integer')\n",
    "    while type(z)!=int:\n",
    "        try:\n",
    "            z = int(input('Please select a step parameter'))\n",
    "        except:\n",
    "            print('Please enter an integer')\n",
    "            \n",
    "    return list(range(x,y,z))"
   ]
  },
  {
   "cell_type": "code",
   "execution_count": 94,
   "id": "117281a0",
   "metadata": {},
   "outputs": [
    {
     "name": "stdout",
     "output_type": "stream",
     "text": [
      "Please select a start parameter5\n",
      "Please select a stop parameter'6'\n",
      "Please enter an integer\n",
      "Please select a stop parameterhello\n",
      "Please enter an integer\n",
      "Please select a stop parameter8\n",
      "Please select a step parameter9\n"
     ]
    },
    {
     "data": {
      "text/plain": [
       "[5]"
      ]
     },
     "execution_count": 94,
     "metadata": {},
     "output_type": "execute_result"
    }
   ],
   "source": [
    "# Test the function here\n",
    "create_ranged_list()"
   ]
  },
  {
   "cell_type": "code",
   "execution_count": null,
   "id": "f9fd216b",
   "metadata": {},
   "outputs": [],
   "source": []
  },
  {
   "cell_type": "code",
   "execution_count": null,
   "id": "6eb08e9f",
   "metadata": {},
   "outputs": [],
   "source": []
  }
 ],
 "metadata": {
  "kernelspec": {
   "display_name": "Python 3 (ipykernel)",
   "language": "python",
   "name": "python3"
  },
  "language_info": {
   "codemirror_mode": {
    "name": "ipython",
    "version": 3
   },
   "file_extension": ".py",
   "mimetype": "text/x-python",
   "name": "python",
   "nbconvert_exporter": "python",
   "pygments_lexer": "ipython3",
   "version": "3.10.9"
  }
 },
 "nbformat": 4,
 "nbformat_minor": 5
}
